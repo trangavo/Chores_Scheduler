{
 "cells": [
  {
   "cell_type": "code",
   "execution_count": 94,
   "metadata": {},
   "outputs": [
    {
     "name": "stdout",
     "output_type": "stream",
     "text": [
      "[[1, 1, 7], [2, 2, 15], [3, 3, 30], [4, 1, 37], [5, 2, 45], [6, 3, 60], [7, 1, 67], [8, 2, 75], [9, 3, 90], [10, 1, 97], [11, 2, 105]]\n"
     ]
    }
   ],
   "source": [
    "import math\n",
    "\n",
    "# points of time chunks of different lengths, i.e., work satisfaction if I do a task for a certain amount of time\n",
    "points = [7, 15, 30, 20, 10, 24, 20, 15, 10, 7, 5]\n",
    "\n",
    "# optimally divide the time frame into different chunks in which different tasks happen\n",
    "def chunk_the_time(p, n):\n",
    "    # list of points\n",
    "    p = [0 for i in range(n+1)]\n",
    "    # list of chunk length\n",
    "    c = [0 for i in range(n+1)]\n",
    "    # for each time frame length\n",
    "    for j in range(1, n+1):\n",
    "        q = -math.inf\n",
    "        # get the optimal points\n",
    "        for i in range(1, j+1):\n",
    "            if q < points[i-1]+p[j-i]:\n",
    "                q = points[i-1]+p[j-i]\n",
    "                c[j] = i\n",
    "        p[j] = q\n",
    "    return (c[n], p[n])\n",
    "\n",
    "result = []\n",
    "\n",
    "# list of different time frame lengths, chunk length and optimal points\n",
    "for n in range(1, 12):\n",
    "    result.append([n] + list(chunk_the_time(points, n)))\n",
    "print(result)\n",
    "\n",
    "# optimal chunk list for a time frame\n",
    "def chunk_duration(n, result):\n",
    "    cuts = []\n",
    "    while n > 0:\n",
    "        cuts.append(result[n-1][1])\n",
    "        n = n - result[n-1][1]\n",
    "    return cuts        \n",
    "    "
   ]
  },
  {
   "cell_type": "code",
   "execution_count": 95,
   "metadata": {},
   "outputs": [],
   "source": [
    "# get the score of each chore given a duration\n",
    "def priority(chore, duration):\n",
    "    score = sum(chore[:duration])\n",
    "    return score\n",
    "\n",
    "# chore scheduler -- get chores of most importance given the optimal duration\n",
    "def chores_scheduler(chunk, chore_list):\n",
    "    tasks = [0 for j in range(len(chunk))]\n",
    "    for i in range(len(chunk)):\n",
    "        duration = chunk[i]\n",
    "        # most important chore\n",
    "        best = 0\n",
    "        for chore in chore_list:\n",
    "            # get the score of each chore\n",
    "            score = priority(chore_list[chore], duration)\n",
    "            # update the most important chore\n",
    "            if score > best:\n",
    "                best = score\n",
    "                chosen = chore\n",
    "        # append the most important chore to the task list\n",
    "        tasks[i] = chosen\n",
    "        del chore_list[chosen]\n",
    "    # return a list of to-do tasks\n",
    "    return tasks"
   ]
  },
  {
   "cell_type": "code",
   "execution_count": 97,
   "metadata": {},
   "outputs": [
    {
     "name": "stdout",
     "output_type": "stream",
     "text": [
      "Morning tasks are: ['personal', 'socializing@bazaar']\n",
      "Afternoon tasks are: ['cs166prep@cafe', 'assignment', 'jobapp', 'historicsite']\n",
      "Evening tasks are: ['civicproj', 'dating', 'housecleaning', 'workstudy']\n"
     ]
    }
   ],
   "source": [
    "# all the tasks that can happen any time\n",
    "master_chore_list = {\"workstudy\": [2, 1, 1, 1], \"jobapp\": [7, 5, 3, 2], \"personal\": [6, 2, 1, 0], \"socializing@bazaar\": [4, 3, 1, 0],\n",
    "                     \"historicsite\": [3, 5, 3, 0], \"exercise\": [2, 1, 0, 0], \"massage\": [1, 0, 0, 0], \"community\": [3, 1, 0, 0],\n",
    "                     \"sxpevents\": [2, 1, 0, 0], \"dating\": [3, 2, 1, 0], \"civicproj\": [5, 2, 1, 0], \"embroidery\": [2, 1, 0, 0],\n",
    "                     \"k-drama\": [2, 1, 1, 0], \"housecleaning\": [3, 2, 0, 0]}\n",
    "\n",
    "# time chunks in the afternoon -- 5 hours in total\n",
    "chunk_aft = chunk_duration(10, result)\n",
    "# list of possible chores for the afternoon\n",
    "chore_aft = master_chore_list\n",
    "chore_aft[\"cs166prep@cafe\"] = [10, 8, 6, 0]\n",
    "chore_aft[\"assignment\"] = [8, 12, 7, 0]\n",
    "# get a list of chores for the afternoon\n",
    "aft_tasks = chores_scheduler(chunk_aft, chore_aft)\n",
    "\n",
    "# time chunks in the morning -- 2 hours in total\n",
    "chunk_mor = chunk_duration(4, result)\n",
    "# list of possible chores for the morning\n",
    "chore_mor = master_chore_list\n",
    "# discard all the tasks that will be done in the afternoon\n",
    "for each in chore_mor:\n",
    "    if each in aft_tasks:\n",
    "        del chore_mor[each]\n",
    "# get a list of chores for the morning\n",
    "mor_tasks = chores_scheduler(chunk_mor, chore_mor)\n",
    "\n",
    "# time chunks in the evening -- 5 hours in total\n",
    "chunk_eve = chunk_duration(10, result)\n",
    "# list of possible chores for the evening\n",
    "chore_eve = master_chore_list\n",
    "# discard all the chores that will be done in the morning and afternoon\n",
    "for each in chore_eve:\n",
    "    if each in aft_tasks or each in mor_tasks:\n",
    "        del chore_eve[each]\n",
    "# get a list of chores for the evening\n",
    "eve_tasks = chores_scheduler(chunk_eve, chore_eve)\n",
    "\n",
    "print(\"Morning tasks are: \" + str(mor_tasks))\n",
    "print(\"Afternoon tasks are: \" + str(aft_tasks))\n",
    "print(\"Evening tasks are: \" + str(eve_tasks))"
   ]
  },
  {
   "cell_type": "code",
   "execution_count": null,
   "metadata": {},
   "outputs": [],
   "source": []
  }
 ],
 "metadata": {
  "kernelspec": {
   "display_name": "Python 3",
   "language": "python",
   "name": "python3"
  },
  "language_info": {
   "codemirror_mode": {
    "name": "ipython",
    "version": 3
   },
   "file_extension": ".py",
   "mimetype": "text/x-python",
   "name": "python",
   "nbconvert_exporter": "python",
   "pygments_lexer": "ipython3",
   "version": "3.6.8"
  }
 },
 "nbformat": 4,
 "nbformat_minor": 2
}
